{
 "cells": [
  {
   "cell_type": "code",
   "execution_count": 1,
   "metadata": {},
   "outputs": [
    {
     "name": "stderr",
     "output_type": "stream",
     "text": [
      "c:\\users\\rohan\\anaconda3\\envs\\flower\\lib\\site-packages\\tensorflow\\python\\framework\\dtypes.py:516: FutureWarning: Passing (type, 1) or '1type' as a synonym of type is deprecated; in a future version of numpy, it will be understood as (type, (1,)) / '(1,)type'.\n",
      "  _np_qint8 = np.dtype([(\"qint8\", np.int8, 1)])\n",
      "c:\\users\\rohan\\anaconda3\\envs\\flower\\lib\\site-packages\\tensorflow\\python\\framework\\dtypes.py:517: FutureWarning: Passing (type, 1) or '1type' as a synonym of type is deprecated; in a future version of numpy, it will be understood as (type, (1,)) / '(1,)type'.\n",
      "  _np_quint8 = np.dtype([(\"quint8\", np.uint8, 1)])\n",
      "c:\\users\\rohan\\anaconda3\\envs\\flower\\lib\\site-packages\\tensorflow\\python\\framework\\dtypes.py:518: FutureWarning: Passing (type, 1) or '1type' as a synonym of type is deprecated; in a future version of numpy, it will be understood as (type, (1,)) / '(1,)type'.\n",
      "  _np_qint16 = np.dtype([(\"qint16\", np.int16, 1)])\n",
      "c:\\users\\rohan\\anaconda3\\envs\\flower\\lib\\site-packages\\tensorflow\\python\\framework\\dtypes.py:519: FutureWarning: Passing (type, 1) or '1type' as a synonym of type is deprecated; in a future version of numpy, it will be understood as (type, (1,)) / '(1,)type'.\n",
      "  _np_quint16 = np.dtype([(\"quint16\", np.uint16, 1)])\n",
      "c:\\users\\rohan\\anaconda3\\envs\\flower\\lib\\site-packages\\tensorflow\\python\\framework\\dtypes.py:520: FutureWarning: Passing (type, 1) or '1type' as a synonym of type is deprecated; in a future version of numpy, it will be understood as (type, (1,)) / '(1,)type'.\n",
      "  _np_qint32 = np.dtype([(\"qint32\", np.int32, 1)])\n",
      "c:\\users\\rohan\\anaconda3\\envs\\flower\\lib\\site-packages\\tensorflow\\python\\framework\\dtypes.py:525: FutureWarning: Passing (type, 1) or '1type' as a synonym of type is deprecated; in a future version of numpy, it will be understood as (type, (1,)) / '(1,)type'.\n",
      "  np_resource = np.dtype([(\"resource\", np.ubyte, 1)])\n",
      "c:\\users\\rohan\\anaconda3\\envs\\flower\\lib\\site-packages\\tensorboard\\compat\\tensorflow_stub\\dtypes.py:541: FutureWarning: Passing (type, 1) or '1type' as a synonym of type is deprecated; in a future version of numpy, it will be understood as (type, (1,)) / '(1,)type'.\n",
      "  _np_qint8 = np.dtype([(\"qint8\", np.int8, 1)])\n",
      "c:\\users\\rohan\\anaconda3\\envs\\flower\\lib\\site-packages\\tensorboard\\compat\\tensorflow_stub\\dtypes.py:542: FutureWarning: Passing (type, 1) or '1type' as a synonym of type is deprecated; in a future version of numpy, it will be understood as (type, (1,)) / '(1,)type'.\n",
      "  _np_quint8 = np.dtype([(\"quint8\", np.uint8, 1)])\n",
      "c:\\users\\rohan\\anaconda3\\envs\\flower\\lib\\site-packages\\tensorboard\\compat\\tensorflow_stub\\dtypes.py:543: FutureWarning: Passing (type, 1) or '1type' as a synonym of type is deprecated; in a future version of numpy, it will be understood as (type, (1,)) / '(1,)type'.\n",
      "  _np_qint16 = np.dtype([(\"qint16\", np.int16, 1)])\n",
      "c:\\users\\rohan\\anaconda3\\envs\\flower\\lib\\site-packages\\tensorboard\\compat\\tensorflow_stub\\dtypes.py:544: FutureWarning: Passing (type, 1) or '1type' as a synonym of type is deprecated; in a future version of numpy, it will be understood as (type, (1,)) / '(1,)type'.\n",
      "  _np_quint16 = np.dtype([(\"quint16\", np.uint16, 1)])\n",
      "c:\\users\\rohan\\anaconda3\\envs\\flower\\lib\\site-packages\\tensorboard\\compat\\tensorflow_stub\\dtypes.py:545: FutureWarning: Passing (type, 1) or '1type' as a synonym of type is deprecated; in a future version of numpy, it will be understood as (type, (1,)) / '(1,)type'.\n",
      "  _np_qint32 = np.dtype([(\"qint32\", np.int32, 1)])\n",
      "c:\\users\\rohan\\anaconda3\\envs\\flower\\lib\\site-packages\\tensorboard\\compat\\tensorflow_stub\\dtypes.py:550: FutureWarning: Passing (type, 1) or '1type' as a synonym of type is deprecated; in a future version of numpy, it will be understood as (type, (1,)) / '(1,)type'.\n",
      "  np_resource = np.dtype([(\"resource\", np.ubyte, 1)])\n"
     ]
    },
    {
     "name": "stdout",
     "output_type": "stream",
     "text": [
      "1.14.0\n"
     ]
    }
   ],
   "source": [
    "import tensorflow as tf\n",
    "print(tf.__version__)"
   ]
  },
  {
   "cell_type": "code",
   "execution_count": 2,
   "metadata": {},
   "outputs": [
    {
     "name": "stdout",
     "output_type": "stream",
     "text": [
      "Num GPUs Available:  1\n"
     ]
    }
   ],
   "source": [
    "from __future__ import absolute_import, division, print_function, unicode_literals\n",
    "print(\"Num GPUs Available: \", len(tf.config.experimental.list_physical_devices('GPU')))"
   ]
  },
  {
   "cell_type": "code",
   "execution_count": 3,
   "metadata": {},
   "outputs": [
    {
     "name": "stderr",
     "output_type": "stream",
     "text": [
      "Using TensorFlow backend.\n"
     ]
    }
   ],
   "source": [
    "import keras\n",
    "from keras.layers import Input, Lambda, Dense, Flatten\n",
    "from keras.models import Model\n",
    "from keras.applications.vgg16 import VGG16\n",
    "from keras.applications.vgg16 import preprocess_input\n",
    "from keras.preprocessing import image\n",
    "from keras.preprocessing.image import ImageDataGenerator\n",
    "from keras.models import Sequential\n",
    "import numpy as np\n",
    "from glob import glob\n",
    "from tqdm import tqdm\n",
    "import cv2\n",
    "import matplotlib.pyplot as plt\n",
    "\n",
    "import warnings\n",
    "warnings.filterwarnings(\"ignore\", category=FutureWarning)"
   ]
  },
  {
   "cell_type": "code",
   "execution_count": 4,
   "metadata": {},
   "outputs": [
    {
     "name": "stdout",
     "output_type": "stream",
     "text": [
      "['buildings', 'forest', 'glacier', 'mountain', 'sea', 'street']\n"
     ]
    }
   ],
   "source": [
    "import os\n",
    "print(os.listdir(r'E:\\rohan\\rethink\\TRAIN'))"
   ]
  },
  {
   "cell_type": "code",
   "execution_count": 5,
   "metadata": {},
   "outputs": [
    {
     "data": {
      "text/plain": [
       "WindowsPath('E:/rohan/rethink/TRAIN')"
      ]
     },
     "execution_count": 5,
     "metadata": {},
     "output_type": "execute_result"
    }
   ],
   "source": [
    "import pathlib\n",
    "data_dir = pathlib.Path(r'E:\\rohan\\rethink\\TRAIN')\n",
    "data_dir"
   ]
  },
  {
   "cell_type": "code",
   "execution_count": 6,
   "metadata": {},
   "outputs": [
    {
     "data": {
      "text/plain": [
       "[WindowsPath('E:/rohan/rethink/TRAIN/buildings/0000.jpg'),\n",
       " WindowsPath('E:/rohan/rethink/TRAIN/buildings/0001.jpg'),\n",
       " WindowsPath('E:/rohan/rethink/TRAIN/buildings/0002.jpg'),\n",
       " WindowsPath('E:/rohan/rethink/TRAIN/buildings/0003.jpg'),\n",
       " WindowsPath('E:/rohan/rethink/TRAIN/buildings/0004.jpg')]"
      ]
     },
     "execution_count": 6,
     "metadata": {},
     "output_type": "execute_result"
    }
   ],
   "source": [
    "list(data_dir.glob('*/*.jpg'))[:5]"
   ]
  },
  {
   "cell_type": "code",
   "execution_count": 7,
   "metadata": {},
   "outputs": [
    {
     "data": {
      "text/plain": [
       "[WindowsPath('E:/rohan/rethink/TRAIN/buildings'),\n",
       " WindowsPath('E:/rohan/rethink/TRAIN/forest'),\n",
       " WindowsPath('E:/rohan/rethink/TRAIN/glacier'),\n",
       " WindowsPath('E:/rohan/rethink/TRAIN/mountain'),\n",
       " WindowsPath('E:/rohan/rethink/TRAIN/sea'),\n",
       " WindowsPath('E:/rohan/rethink/TRAIN/street')]"
      ]
     },
     "execution_count": 7,
     "metadata": {},
     "output_type": "execute_result"
    }
   ],
   "source": [
    "list(data_dir.glob('*'))"
   ]
  },
  {
   "cell_type": "code",
   "execution_count": 8,
   "metadata": {},
   "outputs": [
    {
     "name": "stdout",
     "output_type": "stream",
     "text": [
      "13625\n"
     ]
    }
   ],
   "source": [
    "image_count = len(list(data_dir.glob('*/*.jpg')))\n",
    "print(image_count)"
   ]
  },
  {
   "cell_type": "code",
   "execution_count": 9,
   "metadata": {},
   "outputs": [],
   "source": [
    "images_dict = {\n",
    "    'buildings': list(data_dir.glob('buildings/*')),\n",
    "    'forest': list(data_dir.glob('forest/*')),\n",
    "    'glacier': list(data_dir.glob('glacier/*')),\n",
    "    'mountain': list(data_dir.glob('mountain/*')),\n",
    "    'sea': list(data_dir.glob('sea/*')),\n",
    "    'street': list(data_dir.glob('street/*'))    \n",
    "}"
   ]
  },
  {
   "cell_type": "code",
   "execution_count": 10,
   "metadata": {},
   "outputs": [],
   "source": [
    "\n",
    "labels_dict = {\n",
    "    'buildings': 0,\n",
    "    'forest': 1,\n",
    "    'glacier': 2,\n",
    "    'mountain': 3,\n",
    "    'sea': 4,\n",
    "    'street': 5\n",
    "}"
   ]
  },
  {
   "cell_type": "code",
   "execution_count": 11,
   "metadata": {},
   "outputs": [
    {
     "data": {
      "text/plain": [
       "[WindowsPath('E:/rohan/rethink/TRAIN/buildings/0000.jpg'),\n",
       " WindowsPath('E:/rohan/rethink/TRAIN/buildings/0001.jpg'),\n",
       " WindowsPath('E:/rohan/rethink/TRAIN/buildings/0002.jpg'),\n",
       " WindowsPath('E:/rohan/rethink/TRAIN/buildings/0003.jpg'),\n",
       " WindowsPath('E:/rohan/rethink/TRAIN/buildings/0004.jpg')]"
      ]
     },
     "execution_count": 11,
     "metadata": {},
     "output_type": "execute_result"
    }
   ],
   "source": [
    "images_dict['buildings'][:5]"
   ]
  },
  {
   "cell_type": "code",
   "execution_count": 12,
   "metadata": {},
   "outputs": [],
   "source": [
    "X, y = [], []\n",
    "\n",
    "for image_name, image_dir in images_dict.items():\n",
    "    for image in image_dir:\n",
    "        img = cv2.imread(str(image))\n",
    "        resized_img = cv2.resize(img,(150,150))\n",
    "        X.append(resized_img)\n",
    "        y.append(labels_dict[image_name])"
   ]
  },
  {
   "cell_type": "code",
   "execution_count": 13,
   "metadata": {},
   "outputs": [],
   "source": [
    "X = np.array(X)\n",
    "y = np.array(y)"
   ]
  },
  {
   "cell_type": "code",
   "execution_count": 14,
   "metadata": {},
   "outputs": [
    {
     "data": {
      "text/plain": [
       "array([236, 236, 236], dtype=uint8)"
      ]
     },
     "execution_count": 14,
     "metadata": {},
     "output_type": "execute_result"
    }
   ],
   "source": [
    "X[0][0][0]"
   ]
  },
  {
   "cell_type": "code",
   "execution_count": 15,
   "metadata": {},
   "outputs": [],
   "source": [
    "from sklearn.model_selection import train_test_split\n",
    "X_train, X_test, y_train, y_test = train_test_split(X, y, random_state=0)"
   ]
  },
  {
   "cell_type": "code",
   "execution_count": 16,
   "metadata": {},
   "outputs": [
    {
     "data": {
      "text/plain": [
       "((10218, 150, 150, 3), (3407, 150, 150, 3), (10218,), (3407,))"
      ]
     },
     "execution_count": 16,
     "metadata": {},
     "output_type": "execute_result"
    }
   ],
   "source": [
    "X_train.shape, X_test.shape, y_train.shape, y_test.shape"
   ]
  },
  {
   "cell_type": "code",
   "execution_count": 17,
   "metadata": {},
   "outputs": [],
   "source": [
    "import Augmentor"
   ]
  },
  {
   "cell_type": "code",
   "execution_count": 23,
   "metadata": {},
   "outputs": [
    {
     "name": "stdout",
     "output_type": "stream",
     "text": [
      "Initialised with 2102 image(s) found.\n",
      "Output directory set to E:\\rohan\\rethink\\TRAIN\\buildings\\output."
     ]
    }
   ],
   "source": [
    "buildings = Augmentor.Pipeline(r\"E:\\rohan\\rethink\\TRAIN\\buildings\")"
   ]
  },
  {
   "cell_type": "code",
   "execution_count": 24,
   "metadata": {},
   "outputs": [
    {
     "name": "stderr",
     "output_type": "stream",
     "text": [
      "Processing <PIL.Image.Image image mode=RGB size=150x150 at 0x1A2ED1E56D8>: 100%|█| 10000/1000\n"
     ]
    }
   ],
   "source": [
    "buildings.rotate(probability=0.3, max_left_rotation=10, max_right_rotation=10)\n",
    "buildings.rotate90(probability=0.3)\n",
    "buildings.rotate270(probability=0.3)\n",
    "buildings.flip_left_right(probability=0.3)\n",
    "buildings.flip_top_bottom(probability=0.3)\n",
    "buildings.flip_top_bottom(probability=0.3)\n",
    "buildings.crop_random(probability=.1, percentage_area=0.5)\n",
    "buildings.random_brightness(probability = 0.5, min_factor=0.4, max_factor=0.9)\n",
    "buildings.random_color(probability=0.5, min_factor=0.4, max_factor=0.9)\n",
    "buildings.random_contrast(probability=0.5, min_factor=0.9, max_factor=1.4)\n",
    "buildings.random_distortion(probability=0.5, grid_width=7, grid_height=8, magnitude=9)\n",
    "buildings.random_erasing(probability=0.5, rectangle_area=0.2)\n",
    "buildings.zoom(probability=0.7, min_factor=1.1, max_factor=1.5)\n",
    "buildings.sample(10000)"
   ]
  },
  {
   "cell_type": "code",
   "execution_count": 28,
   "metadata": {},
   "outputs": [
    {
     "name": "stdout",
     "output_type": "stream",
     "text": [
      "Initialised with 2196 image(s) found.\n",
      "Output directory set to E:\\rohan\\rethink\\TRAIN\\forest\\output."
     ]
    }
   ],
   "source": [
    "forest = Augmentor.Pipeline(r\"E:\\rohan\\rethink\\TRAIN\\forest\")"
   ]
  },
  {
   "cell_type": "code",
   "execution_count": 29,
   "metadata": {},
   "outputs": [
    {
     "name": "stderr",
     "output_type": "stream",
     "text": [
      "Processing <PIL.Image.Image image mode=RGB size=75x75 at 0x1A2EC0CB898>: 100%|█| 10000/10000 \n"
     ]
    }
   ],
   "source": [
    "forest.rotate(probability=0.3, max_left_rotation=10, max_right_rotation=10)\n",
    "forest.rotate90(probability=0.3)\n",
    "forest.rotate270(probability=0.3)\n",
    "forest.flip_left_right(probability=0.3)\n",
    "forest.flip_top_bottom(probability=0.3)\n",
    "forest.flip_top_bottom(probability=0.3)\n",
    "forest.crop_random(probability=.1, percentage_area=0.5)\n",
    "forest.random_brightness(probability = 0.5, min_factor=0.4, max_factor=0.9)\n",
    "forest.random_color(probability=0.5, min_factor=0.4, max_factor=0.9)\n",
    "forest.random_contrast(probability=0.5, min_factor=0.9, max_factor=1.4)\n",
    "forest.random_distortion(probability=0.5, grid_width=7, grid_height=8, magnitude=9)\n",
    "forest.random_erasing(probability=0.5, rectangle_area=0.2)\n",
    "forest.zoom(probability=0.7, min_factor=1.1, max_factor=1.5)\n",
    "forest.sample(10000)"
   ]
  },
  {
   "cell_type": "code",
   "execution_count": 30,
   "metadata": {},
   "outputs": [
    {
     "name": "stderr",
     "output_type": "stream",
     "text": [
      "\r",
      "Executing Pipeline:   0%|                                    | 0/10000 [00:00<?, ? Samples/s]"
     ]
    },
    {
     "name": "stdout",
     "output_type": "stream",
     "text": [
      "Initialised with 2365 image(s) found.\n",
      "Output directory set to E:\\rohan\\rethink\\TRAIN\\glacier\\output."
     ]
    },
    {
     "name": "stderr",
     "output_type": "stream",
     "text": [
      "Processing <PIL.Image.Image image mode=RGB size=150x150 at 0x1A2EC76C588>: 100%|█| 10000/1000\n"
     ]
    }
   ],
   "source": [
    "glacier = Augmentor.Pipeline(r\"E:\\rohan\\rethink\\TRAIN\\glacier\")\n",
    "glacier.rotate(probability=0.3, max_left_rotation=10, max_right_rotation=10)\n",
    "glacier.rotate90(probability=0.3)\n",
    "glacier.rotate270(probability=0.3)\n",
    "glacier.flip_left_right(probability=0.3)\n",
    "glacier.flip_top_bottom(probability=0.3)\n",
    "glacier.flip_top_bottom(probability=0.3)\n",
    "glacier.crop_random(probability=.1, percentage_area=0.5)\n",
    "glacier.random_brightness(probability = 0.5, min_factor=0.4, max_factor=0.9)\n",
    "glacier.random_color(probability=0.5, min_factor=0.4, max_factor=0.9)\n",
    "glacier.random_contrast(probability=0.5, min_factor=0.9, max_factor=1.4)\n",
    "glacier.random_distortion(probability=0.5, grid_width=7, grid_height=8, magnitude=9)\n",
    "glacier.random_erasing(probability=0.5, rectangle_area=0.2)\n",
    "glacier.zoom(probability=0.7, min_factor=1.1, max_factor=1.5)\n",
    "glacier.sample(10000)"
   ]
  },
  {
   "cell_type": "code",
   "execution_count": 31,
   "metadata": {},
   "outputs": [
    {
     "name": "stderr",
     "output_type": "stream",
     "text": [
      "\r",
      "Executing Pipeline:   0%|                                    | 0/10000 [00:00<?, ? Samples/s]"
     ]
    },
    {
     "name": "stdout",
     "output_type": "stream",
     "text": [
      "Initialised with 2429 image(s) found.\n",
      "Output directory set to E:\\rohan\\rethink\\TRAIN\\mountain\\output."
     ]
    },
    {
     "name": "stderr",
     "output_type": "stream",
     "text": [
      "Processing <PIL.Image.Image image mode=RGB size=150x150 at 0x1A2EBB7B780>: 100%|█| 10000/1000\n"
     ]
    }
   ],
   "source": [
    "mountain = Augmentor.Pipeline(r\"E:\\rohan\\rethink\\TRAIN\\mountain\")\n",
    "mountain.rotate(probability=0.3, max_left_rotation=10, max_right_rotation=10)\n",
    "mountain.rotate90(probability=0.3)\n",
    "mountain.rotate270(probability=0.3)\n",
    "mountain.flip_left_right(probability=0.3)\n",
    "mountain.flip_top_bottom(probability=0.3)\n",
    "mountain.flip_top_bottom(probability=0.3)\n",
    "mountain.crop_random(probability=.1, percentage_area=0.5)\n",
    "mountain.random_brightness(probability = 0.5, min_factor=0.4, max_factor=0.9)\n",
    "mountain.random_color(probability=0.5, min_factor=0.4, max_factor=0.9)\n",
    "mountain.random_contrast(probability=0.5, min_factor=0.9, max_factor=1.4)\n",
    "mountain.random_distortion(probability=0.5, grid_width=7, grid_height=8, magnitude=9)\n",
    "mountain.random_erasing(probability=0.5, rectangle_area=0.2)\n",
    "mountain.zoom(probability=0.7, min_factor=1.1, max_factor=1.5)\n",
    "mountain.sample(10000)"
   ]
  },
  {
   "cell_type": "code",
   "execution_count": 32,
   "metadata": {},
   "outputs": [
    {
     "name": "stderr",
     "output_type": "stream",
     "text": [
      "\r",
      "Executing Pipeline:   0%|                                    | 0/10000 [00:00<?, ? Samples/s]"
     ]
    },
    {
     "name": "stdout",
     "output_type": "stream",
     "text": [
      "Initialised with 2227 image(s) found.\n",
      "Output directory set to E:\\rohan\\rethink\\TRAIN\\sea\\output."
     ]
    },
    {
     "name": "stderr",
     "output_type": "stream",
     "text": [
      "Processing <PIL.Image.Image image mode=RGB size=150x150 at 0x1A2EB7CE358>: 100%|█| 10000/1000\n"
     ]
    }
   ],
   "source": [
    "sea = Augmentor.Pipeline(r\"E:\\rohan\\rethink\\TRAIN\\sea\")\n",
    "sea.rotate(probability=0.3, max_left_rotation=10, max_right_rotation=10)\n",
    "sea.rotate90(probability=0.3)\n",
    "sea.rotate270(probability=0.3)\n",
    "sea.flip_left_right(probability=0.3)\n",
    "sea.flip_top_bottom(probability=0.3)\n",
    "sea.flip_top_bottom(probability=0.3)\n",
    "sea.crop_random(probability=.1, percentage_area=0.5)\n",
    "sea.random_brightness(probability = 0.5, min_factor=0.4, max_factor=0.9)\n",
    "sea.random_color(probability=0.5, min_factor=0.4, max_factor=0.9)\n",
    "sea.random_contrast(probability=0.5, min_factor=0.9, max_factor=1.4)\n",
    "sea.random_distortion(probability=0.5, grid_width=7, grid_height=8, magnitude=9)\n",
    "sea.random_erasing(probability=0.5, rectangle_area=0.2)\n",
    "sea.zoom(probability=0.7, min_factor=1.1, max_factor=1.5)\n",
    "sea.sample(10000)"
   ]
  },
  {
   "cell_type": "code",
   "execution_count": 33,
   "metadata": {},
   "outputs": [
    {
     "name": "stderr",
     "output_type": "stream",
     "text": [
      "\r",
      "Executing Pipeline:   0%|                                    | 0/10000 [00:00<?, ? Samples/s]"
     ]
    },
    {
     "name": "stdout",
     "output_type": "stream",
     "text": [
      "Initialised with 2306 image(s) found.\n",
      "Output directory set to E:\\rohan\\rethink\\TRAIN\\street\\output."
     ]
    },
    {
     "name": "stderr",
     "output_type": "stream",
     "text": [
      "Processing <PIL.Image.Image image mode=RGB size=150x150 at 0x1A2EBC9EB70>: 100%|█| 10000/1000\n"
     ]
    }
   ],
   "source": [
    "street = Augmentor.Pipeline(r\"E:\\rohan\\rethink\\TRAIN\\street\")\n",
    "street.rotate(probability=0.3, max_left_rotation=10, max_right_rotation=10)\n",
    "street.rotate90(probability=0.3)\n",
    "street.rotate270(probability=0.3)\n",
    "street.flip_left_right(probability=0.3)\n",
    "street.flip_top_bottom(probability=0.3)\n",
    "street.flip_top_bottom(probability=0.3)\n",
    "street.crop_random(probability=.1, percentage_area=0.5)\n",
    "street.random_brightness(probability = 0.5, min_factor=0.4, max_factor=0.9)\n",
    "street.random_color(probability=0.5, min_factor=0.4, max_factor=0.9)\n",
    "street.random_contrast(probability=0.5, min_factor=0.9, max_factor=1.4)\n",
    "street.random_distortion(probability=0.5, grid_width=7, grid_height=8, magnitude=9)\n",
    "street.random_erasing(probability=0.5, rectangle_area=0.2)\n",
    "street.zoom(probability=0.7, min_factor=1.1, max_factor=1.5)\n",
    "street.sample(10000)"
   ]
  },
  {
   "cell_type": "code",
   "execution_count": null,
   "metadata": {},
   "outputs": [],
   "source": []
  },
  {
   "cell_type": "code",
   "execution_count": null,
   "metadata": {},
   "outputs": [],
   "source": []
  },
  {
   "cell_type": "code",
   "execution_count": null,
   "metadata": {},
   "outputs": [],
   "source": []
  },
  {
   "cell_type": "code",
   "execution_count": null,
   "metadata": {},
   "outputs": [],
   "source": []
  }
 ],
 "metadata": {
  "kernelspec": {
   "display_name": "Python 3",
   "language": "python",
   "name": "python3"
  },
  "language_info": {
   "codemirror_mode": {
    "name": "ipython",
    "version": 3
   },
   "file_extension": ".py",
   "mimetype": "text/x-python",
   "name": "python",
   "nbconvert_exporter": "python",
   "pygments_lexer": "ipython3",
   "version": "3.6.9"
  }
 },
 "nbformat": 4,
 "nbformat_minor": 4
}
